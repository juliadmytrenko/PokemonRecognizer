{
  "nbformat": 4,
  "nbformat_minor": 0,
  "metadata": {
    "colab": {
      "provenance": [],
      "gpuType": "T4",
      "mount_file_id": "1AEu-yyqZONeqnTH4AnM5dHeVvDMtbK8k",
      "authorship_tag": "ABX9TyNDE1aV+iBmDp9fCcPw54Bx",
      "include_colab_link": true
    },
    "kernelspec": {
      "name": "python3",
      "display_name": "Python 3"
    },
    "language_info": {
      "name": "python"
    },
    "accelerator": "GPU"
  },
  "cells": [
    {
      "cell_type": "markdown",
      "metadata": {
        "id": "view-in-github",
        "colab_type": "text"
      },
      "source": [
        "<a href=\"https://colab.research.google.com/github/juliadmytrenko/PokemonRecognizer/blob/main/PokemonRecognizer.ipynb\" target=\"_parent\"><img src=\"https://colab.research.google.com/assets/colab-badge.svg\" alt=\"Open In Colab\"/></a>"
      ]
    },
    {
      "cell_type": "markdown",
      "source": [
        "# Cześć 🤠\n",
        "Tworzę te prostą sieć, aby nauczyć się samej obrabiać dane i dostosywać hiperparametry.\n",
        "\n",
        "Projekt ten polega na tym, aby rozpoznać czy dany pluszak/zabawka to któryś z dwóch pokemonów (Jigglypuff, Bulbasaur).\n",
        "\n",
        "Jeżeli jest prawdopodobieństwo większe niż załóżmy 75%, wtedy uznaję, że warto przejrzeć daną ofertę z OLX, Allegro, eBay etc."
      ],
      "metadata": {
        "id": "hvjWouIoEa63"
      }
    },
    {
      "cell_type": "markdown",
      "source": [
        "## Wczytywanie obrazków\n",
        "\n",
        "- czy bibliotek do obrazów `Pillow` jest w stanie mi wczytać obrazek w formacie `jfif` ? Odp. TAK"
      ],
      "metadata": {
        "id": "N3NFvNwQF-5O"
      }
    },
    {
      "cell_type": "code",
      "source": [
        "!pip install pillow-avif-plugin"
      ],
      "metadata": {
        "colab": {
          "base_uri": "https://localhost:8080/"
        },
        "id": "Nw4i9z9uR3cm",
        "outputId": "bc14a241-cde4-429c-a89a-d694ace8ca50"
      },
      "execution_count": 373,
      "outputs": [
        {
          "output_type": "stream",
          "name": "stdout",
          "text": [
            "Requirement already satisfied: pillow-avif-plugin in /usr/local/lib/python3.11/dist-packages (1.5.2)\n"
          ]
        }
      ]
    },
    {
      "cell_type": "code",
      "source": [
        "from PIL import Image\n",
        "import pillow_avif # do wczytywania plików .avif\n",
        "import os\n",
        "\n",
        "module_path = \"/content/drive/MyDrive/Życie/ml/pokemony\"\n",
        "\n",
        "# # importing the image\n",
        "# img = Image.open(\"/content/drive/MyDrive/Życie/ml/pokemony/data/train/Jigglypuff/2.jfif\")\n",
        "# print(\"The size of the image before conversion : \", end = \"\")\n",
        "# print(os.path.getsize(\"/content/drive/MyDrive/Życie/ml/pokemony/data/train/Jigglypuff/2.jfif\"))"
      ],
      "metadata": {
        "id": "WwYuK9iiHQaF"
      },
      "execution_count": 374,
      "outputs": []
    },
    {
      "cell_type": "markdown",
      "source": [
        "Teraz wczytujemy wszystkie obrazki.\n",
        "Na razie nie zipuję obrazków, bo jest ich mało i nie mam potrzeby ich zipować, żeby mieć więcej miejsca na dysku, ale jak się zwiększy dataset to to zrobię lol aaaaaaaa"
      ],
      "metadata": {
        "id": "lxatSydCHZka"
      }
    },
    {
      "cell_type": "code",
      "source": [
        "import zipfile\n",
        "import os\n",
        "from pathlib import Path\n",
        "from google.colab import drive\n",
        "\n",
        "# 1. Montowanie Google Drive'a\n",
        "# drive.mount('/content/drive')\n",
        "\n",
        "# 2. Definiowanie ścieżek\n",
        "zip_file_path = f\"{module_path}/data.zip\" # Zmień na poprawną ścieżkę, nazwa chyba musi być ta sama co folderu na dole czyli data\n",
        "extract_path = module_path # Ścieżka, gdzie chcesz wypakować pliki\n",
        "\n",
        "# 3. Tworzenie folderu docelowego, jeśli nie istnieje\n",
        "Path(extract_path).mkdir(parents=True, exist_ok=True)\n",
        "\n",
        "# 4. Sprawdzenie, czy plik ZIP istnieje i wypakowanie go\n",
        "try:\n",
        "    if os.path.exists(zip_file_path):\n",
        "        with zipfile.ZipFile(zip_file_path, 'r') as zip_ref:\n",
        "            print(f\"Unpackng {zip_file_path}...\")\n",
        "            zip_ref.extractall(extract_path)\n",
        "            print(f\"Unpacked to {extract_path}\")\n",
        "    else:\n",
        "        print(f\"File not found: {zip_file_path}\")\n",
        "except zipfile.BadZipFile:\n",
        "    print(f\"Error: {zip_file_path} is not a correct ZIP file\")\n",
        "except Exception as e:\n",
        "    print(f\"Unexpected error: {e}\")\n",
        "# Remove zip file\n",
        "# os.remove(data_path / \"pokemony_data.zip\") # nie usuwam, bo zamiast jak Daniel pobrać dane ze zdalnego repo to pobieram\n",
        "# je bezpośrednio z mojego google drive"
      ],
      "metadata": {
        "colab": {
          "base_uri": "https://localhost:8080/"
        },
        "id": "2lk84bbE0SLm",
        "outputId": "5d385d48-b2d3-4d77-a39f-2f28c22f6b0b"
      },
      "execution_count": 375,
      "outputs": [
        {
          "output_type": "stream",
          "name": "stdout",
          "text": [
            "Unpackng /content/drive/MyDrive/Życie/ml/pokemony/data.zip...\n",
            "Unpacked to /content/drive/MyDrive/Życie/ml/pokemony\n"
          ]
        }
      ]
    },
    {
      "cell_type": "code",
      "source": [
        "from pathlib import Path\n",
        "data_path = Path(\"/content/drive/MyDrive/Życie/ml\")\n",
        "\n",
        "image_path = data_path / \"pokemony\" / \"data\"\n",
        "\n",
        "image_path_list = list(image_path.glob(\"*/*/*.*\")) # wszystkie zdj z ml\n",
        "\n",
        "# Setup train and testing paths\n",
        "train_dir = image_path / \"train\"\n",
        "dev_dir = image_path / \"dev\"\n",
        "test_dir = image_path / \"test\"\n",
        "\n",
        "train_dir"
      ],
      "metadata": {
        "colab": {
          "base_uri": "https://localhost:8080/"
        },
        "id": "9PcR8QDrIC94",
        "outputId": "29ad45e4-0796-49d0-ce8a-1032b8d56312"
      },
      "execution_count": 376,
      "outputs": [
        {
          "output_type": "execute_result",
          "data": {
            "text/plain": [
              "PosixPath('/content/drive/MyDrive/Życie/ml/pokemony/data/train')"
            ]
          },
          "metadata": {},
          "execution_count": 376
        }
      ]
    },
    {
      "cell_type": "code",
      "source": [
        "# image_path_list"
      ],
      "metadata": {
        "id": "jtRRiFurSh0o"
      },
      "execution_count": 377,
      "outputs": []
    },
    {
      "cell_type": "markdown",
      "source": [
        "Zmienia strukture folderów na odpowiednią. Przechodzę do wczytywania obrazków poprzez defaultowy ImageFolder"
      ],
      "metadata": {
        "id": "FufrxblOJTUm"
      }
    },
    {
      "cell_type": "code",
      "source": [
        "import torch\n",
        "from torchvision import datasets, transforms\n",
        "\n",
        "data_transform = transforms.Compose([\n",
        "    # Resize our images\n",
        "    transforms.Resize(size=(64, 64)),\n",
        "    # Flip the images randomly on the horizontal\n",
        "    transforms.RandomHorizontalFlip(p=0.5),\n",
        "    # Turn the image into a torch.Tensor\n",
        "    transforms.ToTensor()\n",
        "])"
      ],
      "metadata": {
        "id": "pKNzSVvyKpsH"
      },
      "execution_count": 378,
      "outputs": []
    },
    {
      "cell_type": "markdown",
      "source": [
        "42????? miało ich być 25. Coś jest nie tak. Wyświętlę wszystkie obrazki"
      ],
      "metadata": {
        "id": "patNlXalLXFl"
      }
    },
    {
      "cell_type": "markdown",
      "source": [
        "## Skryptowanie\n",
        "Tworzenie skryptu Datasets i Dataloaders.\n",
        "\n",
        "- Używam magic command `%%writefile $filename`\n",
        "- Użyję magiczną funkcję Jupyter'a do stworzenia pliku `.py`\n",
        "\n",
        "\n"
      ],
      "metadata": {
        "id": "i9ZjlPicMQv3"
      }
    },
    {
      "cell_type": "code",
      "source": [
        "#Create a directory pokemony scripts\n",
        "import os\n",
        "os.makedirs(f\"{module_path}/pokemony/\", exist_ok=True)\n",
        "\n",
        "import sys #This means that Python will now be able to find and import modules located in that newly added directory.\n",
        "sys.path.append(f'{module_path}/pokemony')\n",
        "\n",
        "# Think of sys.path as a list of all the places Python looks when you try to import something.\n",
        "# When you use import my_module, Python goes through this list,\n",
        "# checking each directory for a file named my_module.py. If it finds it, it imports the module."
      ],
      "metadata": {
        "id": "7ksMc1o4L4sa"
      },
      "execution_count": 379,
      "outputs": []
    },
    {
      "cell_type": "code",
      "source": [],
      "metadata": {
        "id": "LOwndZzHo1Wc"
      },
      "execution_count": 379,
      "outputs": []
    },
    {
      "cell_type": "markdown",
      "source": [],
      "metadata": {
        "id": "G-H0CeuwL4Rz"
      }
    },
    {
      "cell_type": "code",
      "source": [
        "data_setup_filepath = Path(f\"{module_path}/pokemony/data_setup.py\")\n",
        "data_setup_module = Path(f\"{module_path}/pokemony/\")\n",
        "\n",
        "data_setup_module"
      ],
      "metadata": {
        "colab": {
          "base_uri": "https://localhost:8080/"
        },
        "id": "vOdKcDSExDr-",
        "outputId": "a390d844-f6af-4a66-b013-cb2ca7ed7738"
      },
      "execution_count": 380,
      "outputs": [
        {
          "output_type": "execute_result",
          "data": {
            "text/plain": [
              "PosixPath('/content/drive/MyDrive/Życie/ml/pokemony/pokemony')"
            ]
          },
          "metadata": {},
          "execution_count": 380
        }
      ]
    },
    {
      "cell_type": "code",
      "source": [
        "writefile_data_setup = f\"{module_path}/pokemony/data_setup.py\""
      ],
      "metadata": {
        "id": "PA6JpkoB08cO"
      },
      "execution_count": 381,
      "outputs": []
    },
    {
      "cell_type": "code",
      "source": [
        "%%writefile /content/drive/MyDrive/Życie/ml/pokemony/pokemony/data_setup.py\n",
        "# %%writefile $writefile_data_setup\n",
        "\"\"\"\n",
        "Wczytuje dane do trenowania, walidacji? i testowania\n",
        "\"\"\"\n",
        "\n",
        "import os\n",
        "from torchvision import datasets, transforms\n",
        "from torch.utils.data import DataLoader\n",
        "import matplotlib.pyplot as plt\n",
        "import random\n",
        "\n",
        "NUM_WORKERS = os.cpu_count()\n",
        "\n",
        "def create_dataloader(\n",
        "    train_dir: str,\n",
        "    dev_dir: str,\n",
        "    transform: transforms.Compose,\n",
        "    batch_size: int,\n",
        "    num_workers: int = NUM_WORKERS\n",
        "):\n",
        "  \"\"\"\n",
        "    Creates training and validating (dev) dataloaders\n",
        "    Takes in a training directory and validating directory and\n",
        "    turns them into Pytorch Dataset and then into PyTorch DataLoaders\n",
        "\n",
        "    Args:\n",
        "      train_dir: Path to training directory.\n",
        "      test_dir: Path to testing directory.\n",
        "      transform: torchvision transforms to perform on training and testing data.\n",
        "      batch_size: Number of ........... TODO\n",
        "\n",
        "\n",
        "    Returns:\n",
        "      A tuple of (train_dataloader, test_dataloader, class_names)\n",
        "      Where classnames is a list of the target classes.\n",
        "\n",
        "    Example usage:\n",
        "      ..............\n",
        "\n",
        "  \"\"\"\n",
        "\n",
        "  train_data = datasets.ImageFolder(root=train_dir,\n",
        "                                    transform=transform,\n",
        "                                    target_transform=None) # transform for the target/label\n",
        "\n",
        "  dev_data = datasets.ImageFolder(dev_dir,\n",
        "                                  transform=transform,\n",
        "                                  target_transform=None)\n",
        "\n",
        "  # Setup the batch size hyperparameter\n",
        "  BATCH_SIZE = batch_size\n",
        "\n",
        "  # Turn datasets into iterables (batches)\n",
        "  train_dataloader = DataLoader(dataset=train_data,\n",
        "                                batch_size=BATCH_SIZE,\n",
        "                                shuffle=True,\n",
        "                                num_workers=NUM_WORKERS,\n",
        "                                pin_memory=True) # pin_memory pomaga GPU CUDA na szybsze obliczenia\n",
        "  # for test data the order doesn't really matter because the model does not learn on test data\n",
        "\n",
        "\n",
        "  # show 10 images\n",
        "  for i, (image, label) in enumerate(random.choices(train_data, k=10)):\n",
        "    plt.subplot(2, 5, i+1) # omg to było takie proste, ale lepiej wolno niż wcale co nie?\n",
        "    plt.imshow(transforms.functional.to_pil_image(image, mode=None))\n",
        "    plt.title(label)\n",
        "    plt.axis(\"off\")\n",
        "\n",
        "\n",
        "  dev_dataloader = DataLoader(dataset=dev_data,\n",
        "                              batch_size=BATCH_SIZE,\n",
        "                              shuffle=False,\n",
        "                              num_workers=NUM_WORKERS,\n",
        "                              pin_memory=True)\n",
        "\n",
        "  return train_dataloader, dev_dataloader, train_data.classes # jak nie ma brackets ( to też zwraca tuple domyślnie"
      ],
      "metadata": {
        "colab": {
          "base_uri": "https://localhost:8080/"
        },
        "id": "LS2_YUZoGVo7",
        "outputId": "df6f44dd-2d7f-4445-da5b-646b2056b82c"
      },
      "execution_count": 382,
      "outputs": [
        {
          "output_type": "stream",
          "name": "stdout",
          "text": [
            "Overwriting /content/drive/MyDrive/Życie/ml/pokemony/pokemony/data_setup.py\n"
          ]
        }
      ]
    },
    {
      "cell_type": "code",
      "source": [],
      "metadata": {
        "id": "9dkoSp4DDQnH"
      },
      "execution_count": 382,
      "outputs": []
    },
    {
      "cell_type": "code",
      "source": [
        "\"\"\"\n",
        "Contains PyTorch model code to instantiate a TinyVGG model.\n",
        "\"\"\"\n",
        "import torch\n",
        "from torch import nn\n",
        "\n",
        "class TinyVGG(nn.Module):\n",
        "  def __init__(self, input_shape: int, hidden_units: int, output_shape: int, device: str = \"cpu\"):\n",
        "    super().__init__()\n",
        "    self.conv_block_1 = nn.Sequential(\n",
        "        nn.Conv2d(in_channels=input_shape, out_channels=hidden_units, kernel_size=3, stride=1, padding=0),\n",
        "        nn.ReLU(),\n",
        "        nn.Conv2d(in_channels=hidden_units, out_channels=hidden_units, kernel_size=3, stride=1, padding=0),\n",
        "        nn.ReLU(),\n",
        "        nn.MaxPool2d(kernel_size=2, stride=2) # default stride value is same as kernel_size\n",
        "    )\n",
        "    self.conv_block_2 = nn.Sequential(\n",
        "        nn.Conv2d(in_channels=hidden_units, out_channels=hidden_units, kernel_size=3, stride=1, padding=0),\n",
        "        nn.ReLU(),\n",
        "        nn.Conv2d(in_channels=hidden_units, out_channels=hidden_units, kernel_size=3, stride=1, padding=0),\n",
        "        nn.ReLU(),\n",
        "        nn.MaxPool2d(kernel_size=2)\n",
        "    )\n",
        "    self.classifier = nn.Sequential(\n",
        "        nn.Flatten(),\n",
        "        # Where did this in_features shape come from?\n",
        "        # It's because each layer of our network compresses and changes the shape of our input data.\n",
        "        nn.Linear(in_features=hidden_units*13*13, # there's a trick to calculate this\n",
        "                  out_features=output_shape)\n",
        "    )\n",
        "\n",
        "  def forward(self, x):\n",
        "    x = self.conv_block_1(x)\n",
        "    # print(x.shape)\n",
        "    x = self.conv_block_2(x)\n",
        "    print(f\"X SHAPE:{x.shape}\" )\n",
        "    x = self.classifier(x)\n",
        "    return x\n",
        "    # return self.classifier(self.conv_block_2(self.conv_block_1(x))) # benefits from operator fusion = szybciej się liczy"
      ],
      "metadata": {
        "id": "3Pum5HCsI0tl"
      },
      "execution_count": 383,
      "outputs": []
    },
    {
      "cell_type": "markdown",
      "source": [
        "## dowiaduje się jakie powinno być in_features"
      ],
      "metadata": {
        "id": "eBb4iUnf6t1G"
      }
    },
    {
      "cell_type": "code",
      "source": [
        "model_test_shapes = TinyVGG(input_shape=3, hidden_units=10, output_shape=3)\n",
        "x = torch.randn(1, 3, 64, 64)\n",
        "out = model_test_shapes(x)"
      ],
      "metadata": {
        "colab": {
          "base_uri": "https://localhost:8080/"
        },
        "id": "GHgheLAK6Rp-",
        "outputId": "03627203-e016-41f0-ae6c-66e77799b1e8"
      },
      "execution_count": 384,
      "outputs": [
        {
          "output_type": "stream",
          "name": "stdout",
          "text": [
            "X SHAPE:torch.Size([1, 10, 13, 13])\n"
          ]
        }
      ]
    },
    {
      "cell_type": "code",
      "source": [
        "!pip install -q torchmetrics"
      ],
      "metadata": {
        "id": "POa0vQ4OZ5pK"
      },
      "execution_count": 385,
      "outputs": []
    },
    {
      "cell_type": "code",
      "source": [
        "try:\n",
        "    from torch.utils.tensorboard import SummaryWriter\n",
        "except:\n",
        "    print(\"[INFO] Couldn't find tensorboard... installing it.\")\n",
        "    !pip install -q tensorboard\n",
        "    from torch.utils.tensorboard import SummaryWriter"
      ],
      "metadata": {
        "id": "UNsGLUBOIKSx"
      },
      "execution_count": 386,
      "outputs": []
    },
    {
      "cell_type": "code",
      "source": [
        "%%writefile /content/drive/MyDrive/Życie/ml/pokemony/pokemony/engine.py\n",
        "\n",
        "import torch\n",
        "from torch import nn\n",
        "from torch.utils.tensorboard import SummaryWriter\n",
        "\n",
        "def train_step(\n",
        "    model: torch.nn.Module,\n",
        "    dataloader: torch.utils.data.DataLoader,\n",
        "    loss_fn: torch.nn.Module,\n",
        "    optimizer: torch.optim.Optimizer,\n",
        "    device: torch.device = \"cpu\",\n",
        "):\n",
        "  train_loss, train_acc = 0, 0\n",
        "\n",
        "  model.train()\n",
        "\n",
        "  # Add a loop to loo[ through the training batches\n",
        "  for batch, (X, y) in enumerate(dataloader):\n",
        "    X, y = X.to(device), y.to(device)\n",
        "    # 1. Forward pass\n",
        "    y_pred = model(X) # outpus the raw logits from the model\n",
        "\n",
        "    # 2. Calculate the loss (per batch)\n",
        "    loss = loss_fn(y_pred, y)\n",
        "    train_loss += loss.item() # accumulate train loss\n",
        "    # train_acc += torchmetrics.functional.accuracy(y_pred.argmax(dim=1), y, task=\"multiclass\", num_classes=num_classes)\n",
        "\n",
        "    # 3. optimizer zero grad\n",
        "    optimizer.zero_grad()\n",
        "\n",
        "    # 4. Loss backward\n",
        "    loss.backward()\n",
        "\n",
        "    # 5. optimzer step\n",
        "    optimizer.step()\n",
        "\n",
        "    # Calculate accuracy metric INNA METODA\n",
        "    y_pred_class = torch.argmax(torch.softmax(y_pred, dim=1), dim=1)\n",
        "    train_acc += (y_pred_class==y).sum().item()/len(y_pred)\n",
        "\n",
        "\n",
        "  # Divide total train loss by length of train dataloader\n",
        "  train_loss /= len(dataloader)\n",
        "  train_acc /= len(dataloader)\n",
        "\n",
        "  return train_loss, train_acc\n",
        "\n",
        "\n",
        "def dev_step(\n",
        "    model: torch.nn.Module,\n",
        "    dataloader: torch.utils.data.DataLoader,\n",
        "    loss_fn: torch.nn.Module,\n",
        "    device: torch.device = \"cpu\",\n",
        "):\n",
        "  dev_loss, dev_acc = 0, 0\n",
        "  model.eval()\n",
        "  with torch.inference_mode():\n",
        "    for X_test, y_test in dataloader:\n",
        "      X_test, y_test = X_test.to(device), y_test.to(device)\n",
        "      dev_pred_logits = model(X_test)\n",
        "      # Calculate the loss (accumulatively)\n",
        "      loss = loss_fn(dev_pred_logits, y_test)\n",
        "      dev_loss += loss.item()\n",
        "      # Calc acc\n",
        "      # test_acc += torchmetrics.functional.accuracy(test_pred.argmax(dim=1), y_test, task=\"multiclass\", num_classes=num_classes)\n",
        "    # Calculate the accuracy\n",
        "      dev_pred_labels = dev_pred_logits.argmax(dim=1)\n",
        "\n",
        "      dev_acc += ((dev_pred_labels == y_test).sum().item()/len(dev_pred_labels))\n",
        "    # calculate the test loss average per batch\n",
        "\n",
        "  dev_loss /= len(dataloader)\n",
        "  dev_acc /= len(dataloader)\n",
        "\n",
        "  return dev_loss, dev_acc\n",
        "\n",
        "from tqdm.auto import tqdm\n",
        "\n",
        "# def train(epochs: int,\n",
        "#           model: torch.nn.Module,\n",
        "#           train_dataloader: torch.utils.data.DataLoader,\n",
        "#           dev_dataloader: torch.utils.data.DataLoader,\n",
        "#           optimizer: torch.optim.Optimizer,\n",
        "#           device: torch.device = \"cpu\",\n",
        "#           loss_fn: torch.nn.Module = nn.CrossEntropyLoss()):\n",
        "\n",
        "#   # 2. Create empty results dictionary\n",
        "#   results = {\"train_loss\": [],\n",
        "#              \"train_acc\": [],\n",
        "#              \"dev_loss\": [],\n",
        "#              \"dev_acc\": []}\n",
        "\n",
        "#   for epoch in tqdm(range(epochs)):\n",
        "#     # Add a loop to loop through the training batches\n",
        "\n",
        "#     train_loss, train_acc = train_step(\n",
        "#       model = model,\n",
        "#       data_loader = train_dataloader,\n",
        "#       loss_fn = loss_fn,\n",
        "#       optimizer = optimizer,\n",
        "#       device = device\n",
        "#     )\n",
        "\n",
        "#     dev_loss, dev_acc = dev_step(\n",
        "#       model = model,\n",
        "#       data_loader = dev_dataloader,\n",
        "#       loss_fn = loss_fn,\n",
        "#       device = device\n",
        "#     )\n",
        "\n",
        "#       # 4. Print out what's happening\n",
        "#     # print(f\"Epoch: {epoch} | Train loss: {train_loss:.4f} | Train acc: {train_acc:.4f} | \")\n",
        "#     print(f\"Epoch: {epoch} | Train loss: {train_loss:.4f} | Train acc: {train_acc:.4f} | Dev loss: {dev_loss:.4f} | Dev acc: {dev_acc:.4f}\")\n",
        "\n",
        "#     # 5. Update results dictionary\n",
        "#     results[\"train_loss\"].append(train_loss)\n",
        "#     results[\"train_acc\"].append(train_acc)\n",
        "#     results[\"dev_loss\"].append(dev_loss)\n",
        "#     results[\"dev_acc\"].append(dev_acc)\n",
        "\n",
        "#   # 6. Return the filled results at the end of the epochs\n",
        "#   return results\n",
        "\n",
        "\n",
        "# Create a writer with all default settings\n",
        "writer = SummaryWriter(log_dir=\"/content/drive/MyDrive/Życie/ml/pokemony/runs\")\n",
        "\n",
        "from typing import Dict, List\n",
        "from tqdm.auto import tqdm\n",
        "\n",
        "# from going_modular.going_modular.engine import train_step, test_step\n",
        "\n",
        "# Import train() function from:\n",
        "# https://github.com/mrdbourke/pytorch-deep-learning/blob/main/going_modular/going_modular/engine.py\n",
        "\n",
        "def train(model: torch.nn.Module,\n",
        "          train_dataloader: torch.utils.data.DataLoader,\n",
        "          dev_dataloader: torch.utils.data.DataLoader,\n",
        "          optimizer: torch.optim.Optimizer,\n",
        "          loss_fn: torch.nn.Module,\n",
        "          epochs: int,\n",
        "          device: torch.device,\n",
        "          summary_writer: torch.utils.tensorboard.writer.SummaryWriter) -> Dict[str, List]:\n",
        "  \"\"\"Trains and tests a PyTorch model.\n",
        "\n",
        "  Passes a target PyTorch models through train_step() and test_step()\n",
        "  functions for a number of epochs, training and testing the model\n",
        "  in the same epoch loop.\n",
        "\n",
        "  Calculates, prints and stores evaluation metrics throughout.\n",
        "\n",
        "  Args:\n",
        "    model: A PyTorch model to be trained and tested.\n",
        "    train_dataloader: A DataLoader instance for the model to be trained on.\n",
        "    test_dataloader: A DataLoader instance for the model to be tested on.\n",
        "    optimizer: A PyTorch optimizer to help minimize the loss function.\n",
        "    loss_fn: A PyTorch loss function to calculate loss on both datasets.\n",
        "    epochs: An integer indicating how many epochs to train for.\n",
        "    device: A target device to compute on (e.g. \"cuda\" or \"cpu\").\n",
        "\n",
        "  Returns:\n",
        "    A dictionary of training and testing loss as well as training and\n",
        "    testing accuracy metrics. Each metric has a value in a list for\n",
        "    each epoch.\n",
        "    In the form: {train_loss: [...],\n",
        "              train_acc: [...],\n",
        "              dev_loss: [...],\n",
        "              dev_acc: [...]}\n",
        "    For example if training for epochs=2:\n",
        "            {train_loss: [2.0616, 1.0537],\n",
        "              train_acc: [0.3945, 0.3945],\n",
        "              dev_loss: [1.2641, 1.5706],\n",
        "              dev_acc: [0.3400, 0.2973]}\n",
        "  \"\"\"\n",
        "  # Create empty results dictionary\n",
        "  results = {\"train_loss\": [],\n",
        "              \"train_acc\": [],\n",
        "              \"dev_loss\": [],\n",
        "              \"dev_acc\": []\n",
        "  }\n",
        "\n",
        "  # Loop through training and testing steps for a number of epochs\n",
        "  for epoch in tqdm(range(epochs)):\n",
        "    train_loss, train_acc = train_step(model=model,\n",
        "                                        dataloader=train_dataloader,\n",
        "                                        loss_fn=loss_fn,\n",
        "                                        optimizer=optimizer,\n",
        "                                        device=device)\n",
        "    dev_loss, dev_acc = dev_step(model=model,\n",
        "                                    dataloader=dev_dataloader,\n",
        "                                    loss_fn=loss_fn,\n",
        "                                    device=device)\n",
        "\n",
        "    # Print out what's happening\n",
        "    print(\n",
        "      f\"Epoch: {epoch+1} | \"\n",
        "      f\"train_loss: {train_loss:.4f} | \"\n",
        "      f\"train_acc: {train_acc:.4f} | \"\n",
        "      f\"dev_loss: {dev_loss:.4f} | \"\n",
        "      f\"dev_acc: {dev_acc:.4f}\"\n",
        "    )\n",
        "\n",
        "    # Update results dictionary\n",
        "    results[\"train_loss\"].append(train_loss)\n",
        "    results[\"train_acc\"].append(train_acc)\n",
        "    results[\"dev_loss\"].append(dev_loss)\n",
        "    results[\"dev_acc\"].append(dev_acc)\n",
        "\n",
        "    ### New: Experiment tracking ###\n",
        "\n",
        "    if summary_writer:\n",
        "      # Add loss results to SummaryWriter\n",
        "      summary_writer.add_scalars(main_tag=\"Loss\",\n",
        "                          tag_scalar_dict={\"train_loss\": train_loss,\n",
        "                                          \"dev_loss\": dev_loss},\n",
        "                          global_step=epoch)\n",
        "\n",
        "      # Add accuracy results to SummaryWriter\n",
        "      summary_writer.add_scalars(main_tag=\"Accuracy\",\n",
        "                          tag_scalar_dict={\"train_acc\": train_acc,\n",
        "                                          \"dev_acc\": dev_acc},\n",
        "                          global_step=epoch)\n",
        "\n",
        "      # Track the PyTorch model architecture\n",
        "      summary_writer.add_graph(model=model,\n",
        "                        # Pass in an example input with the correct shape\n",
        "                        input_to_model=torch.randn(32, 3, 64, 64).to(device))\n",
        "\n",
        "      # Close the writer\n",
        "      summary_writer.close()\n",
        "    else:\n",
        "      pass\n",
        "\n",
        "  ### End new ###\n",
        "\n",
        "  # Return the filled results at the end of the epochs\n",
        "  return results"
      ],
      "metadata": {
        "id": "4bi6NorOZi9H",
        "colab": {
          "base_uri": "https://localhost:8080/"
        },
        "outputId": "7490f822-d204-4756-f949-819507fedaa6"
      },
      "execution_count": 387,
      "outputs": [
        {
          "output_type": "stream",
          "name": "stdout",
          "text": [
            "Overwriting /content/drive/MyDrive/Życie/ml/pokemony/pokemony/engine.py\n"
          ]
        }
      ]
    },
    {
      "cell_type": "markdown",
      "source": [
        "### Using SummaryWriter\n",
        "\n",
        "Not using engine.train(), because I updated the train function abcve"
      ],
      "metadata": {
        "id": "UbpwAqlK-Mvy"
      }
    },
    {
      "cell_type": "code",
      "source": [],
      "metadata": {
        "id": "UOLzQXI2CpAB"
      },
      "execution_count": 387,
      "outputs": []
    },
    {
      "cell_type": "code",
      "source": [],
      "metadata": {
        "id": "f4OSoA4nYIqa"
      },
      "execution_count": 387,
      "outputs": []
    },
    {
      "cell_type": "markdown",
      "source": [],
      "metadata": {
        "id": "ZCri7OWn1Bkc"
      }
    },
    {
      "cell_type": "code",
      "source": [
        "%%writefile /content/drive/MyDrive/Życie/ml/pokemony/pokemony/train.py\n",
        "import torch\n",
        "from torch import nn\n",
        "from pathlib import Path\n",
        "from torchvision import datasets, transforms\n",
        "import argparse\n",
        "import pandas as pd\n",
        "\n",
        "import engine\n",
        "import model_builder\n",
        "import data_setup\n",
        "import utils\n",
        "from engine import train # Import the train function\n",
        "from utils import create_writer # Import create_writer from utils.py\n",
        "\n",
        "\n",
        "device = \"cuda\" if torch.cuda.is_available() else \"cpu\"\n",
        "\n",
        "# Setup hyperparameters\n",
        "# NUM_EPOCHS = 5\n",
        "# BATCH_SIZE = 32\n",
        "# HIDDEN_UNITS = 10\n",
        "# LEARNING_RATE = 0.001\n",
        "\n",
        "\n",
        "module_path = \"/content/drive/MyDrive/Życie/ml/pokemony\"\n",
        "\n",
        "data_path = Path(\"/content/drive/MyDrive/Życie/ml\")\n",
        "\n",
        "image_path = data_path / \"pokemony\" / \"data\"\n",
        "\n",
        "image_path_list = list(image_path.glob(\"*/*/*.*\")) # wszystkie zdj z ml\n",
        "\n",
        "# Setup train and testing paths\n",
        "train_dir = image_path / \"train\"\n",
        "dev_dir = image_path / \"dev\"\n",
        "test_dir = image_path / \"test\"\n",
        "\n",
        "data_transform = transforms.Compose([\n",
        "  # Resize our images\n",
        "  transforms.Resize(size=(64, 64)),\n",
        "  # Flip the images randomly on the horizontal\n",
        "  transforms.RandomHorizontalFlip(p=0.5),\n",
        "  # Turn the image into a torch.Tensor\n",
        "  transforms.ToTensor()\n",
        "])\n",
        "\n",
        "\n",
        "parser = argparse.ArgumentParser(description='It trains a model with PyTorch.')\n",
        "\n",
        "parser.add_argument('--num_epochs', type=int, default=5, help='Liczba epok do trenowania modelu.')\n",
        "parser.add_argument('--hidden_units', type=int, default=10, help='Liczba ukrytych jednostek w modelu.')\n",
        "parser.add_argument('-lr','--learning_rate', type=float, default=0.001, help='Współczynnik uczenia.')\n",
        "parser.add_argument('--batch_size', type=int, default=8, help='Size of single batch.')\n",
        "parser.add_argument('--model_name', type=str, default=\"PokemonRecognizer\", help='Name of a model to be saved.')\n",
        "\n",
        "parser.add_argument('--train_dir', type=str, default=train_dir, help='Path to directory with data to train.')\n",
        "parser.add_argument('--dev_dir', type=str, default=dev_dir, help='Path to directory with data to validate.')\n",
        "parser.add_argument('--input_shape', type=int, default=3, help='Size of an input shape')\n",
        "parser.add_argument('--seed', type=int, default=42, help='Seed for randomization')\n",
        "parser.add_argument('--device', type=str, default=device, help='Device on which to compute.')\n",
        "parser.add_argument('--experiment_name', type=str, default=\"random_experiment\", help='Name of experiment in TensorBoard')\n",
        "# parser.add_argument('-lr','--data_transform', type=float, default=\"basic\", help='Współczynnik uczenia.') # to nie wiem jak dodać\n",
        "\n",
        "args = parser.parse_args()\n",
        "\n",
        "train_dir = args.train_dir\n",
        "dev_dir = args.dev_dir\n",
        "data_transform = data_transform # na razie jeszcze nie ekperymentuje z transforms\n",
        "input_shape = args.input_shape\n",
        "hidden_units = args.hidden_units\n",
        "lr = args.learning_rate\n",
        "num_epochs = args.num_epochs\n",
        "batch_size: int = args.batch_size\n",
        "device = args.device\n",
        "seed = args.seed\n",
        "model_name = args.model_name\n",
        "experiment_name = args.experiment_name\n",
        "\n",
        "train_dataloader, dev_dataloader, classes = data_setup.create_dataloader(train_dir, dev_dir, transform=data_transform, batch_size=batch_size)\n",
        "# Set random seeds\n",
        "torch.manual_seed(42)\n",
        "torch.cuda.manual_seed(42)\n",
        "\n",
        "# Set number of epochs\n",
        "NUM_EPOCHS = num_epochs\n",
        "\n",
        "# Recreate an instance of TinyVGG\n",
        "model = model_builder.TinyVGG(input_shape=input_shape, # number of color channels of our target images\n",
        "                              hidden_units=hidden_units,\n",
        "                              output_shape=len(classes)).to(device) # Move model to the target device\n",
        "\n",
        "# Setup loss function and optimizer\n",
        "loss_fn = nn.CrossEntropyLoss()\n",
        "optimizer = torch.optim.Adam(params=model.parameters(),\n",
        "                            lr=lr)\n",
        "\n",
        "# Start the timer\n",
        "from timeit import default_timer as timer\n",
        "start_time = timer()\n",
        "\n",
        "# # Train model\n",
        "# model_results = engine.train(model=model,\n",
        "#                               train_dataloader=train_dataloader,\n",
        "#                               dev_dataloader=dev_dataloader,\n",
        "#                               optimizer=optimizer,\n",
        "#                               loss_fn=loss_fn,\n",
        "#                               epochs=NUM_EPOCHS,\n",
        "#                               device=device)\n",
        "\n",
        "if experiment_name:\n",
        "  writer1 = utils.create_writer(experiment_name=experiment_name, model_name=model_name, extra=f\"{NUM_EPOCHS}_epochs\") # Use args.model_name here\n",
        "\n",
        "# Train model\n",
        "model_results = engine.train(model=model,\n",
        "                      train_dataloader=train_dataloader,\n",
        "                      dev_dataloader=dev_dataloader,\n",
        "                      optimizer=optimizer,\n",
        "                      loss_fn=loss_fn,\n",
        "                      epochs=NUM_EPOCHS,\n",
        "                      summary_writer=writer1, # Pass the writer to the train function\n",
        "                      device=device)\n",
        "\n",
        "\n",
        "model_results[\"num_epochs\"] = num_epochs\n",
        "model_results[\"batch_size\"] = batch_size\n",
        "model_results[\"hidden_units\"] = hidden_units\n",
        "\n",
        "# End the timer and print out how long it took\n",
        "end_time = timer()\n",
        "print(f\"Total training time: {end_time-start_time:.3f} seconds\")\n",
        "\n",
        "# display loss and accuracy curves\n",
        "# utils.plot_loss_curves(model_results) # nie wyświetli się w Colab ten wykres\n",
        "\n",
        "# Saving model\n",
        "MODEL_SAVE_PATH_DIR = f\"{module_path}/models\"\n",
        "utils.save_model(model=model, target_dir=MODEL_SAVE_PATH_DIR,\n",
        "                model_name = model_name)\n",
        "\n",
        "df = pd.DataFrame(model_results)\n",
        "df.to_csv(f\"{module_path}/models/{model_name}_results.csv\", index=False)"
      ],
      "metadata": {
        "id": "t-IJ3viP-3dW",
        "colab": {
          "base_uri": "https://localhost:8080/"
        },
        "outputId": "a302c944-1870-4b7b-bce9-fedd41682642"
      },
      "execution_count": 388,
      "outputs": [
        {
          "output_type": "stream",
          "name": "stdout",
          "text": [
            "Overwriting /content/drive/MyDrive/Życie/ml/pokemony/pokemony/train.py\n"
          ]
        }
      ]
    },
    {
      "cell_type": "code",
      "source": [
        "%%writefile /content/drive/MyDrive/Życie/ml/pokemony/pokemony/utils.py\n",
        "\"\"\"\n",
        "Contains various utility functions for PyTorch model training and saving.\n",
        "\"\"\"\n",
        "from pathlib import Path\n",
        "import matplotlib.pyplot as plt\n",
        "from typing import Tuple, Dict, List, Union\n",
        "import random\n",
        "\n",
        "import torch\n",
        "\n",
        "def save_model(model: torch.nn.Module,\n",
        "               target_dir: str,\n",
        "               model_name: str):\n",
        "    \"\"\"Saves a PyTorch model to a target directory.\n",
        "\n",
        "    Args:\n",
        "    model: A target PyTorch model to save.\n",
        "    target_dir: A directory for saving the model to.\n",
        "    model_name: A filename for the saved model. Should include\n",
        "      either \".pth\" or \".pt\" as the file extension.\n",
        "\n",
        "    Example usage:\n",
        "    save_model(model=model,\n",
        "               target_dir=\"models\",\n",
        "               model_name=\"05_going_modular_tingvgg_model.pth\")\n",
        "    \"\"\"\n",
        "    # Create target directory\n",
        "    target_dir_path = Path(target_dir)\n",
        "    target_dir_path.mkdir(parents=True,\n",
        "                        exist_ok=True)\n",
        "\n",
        "    # Create model save path\n",
        "    assert model_name.endswith(\".pth\") or model_name.endswith(\".pt\"), \"model_name should end with '.pt' or '.pth'\"\n",
        "    model_save_path = target_dir_path / model_name\n",
        "\n",
        "    # Save the model state_dict()\n",
        "    print(f\"[INFO] Saving model to: {model_save_path}\")\n",
        "    torch.save(obj=model.state_dict(),\n",
        "             f=model_save_path)\n",
        "\n",
        "def print_train_time(start: float,\n",
        "                    end: float,\n",
        "                    device: torch.device=None):\n",
        "  \"\"\"Prints difference between start and end time\"\"\"\n",
        "  total_time = end - start\n",
        "  print(f\"Train time on {device}: {total_time:.3f} seconds\")\n",
        "  return total_time\n",
        "\n",
        "\n",
        "def plot_loss_curves(results: Dict[str, Union[str, List[float]]], model_name: str = \"model\", ):\n",
        "  \"\"\"Plots training curves of a result dictionary.\"\"\"\n",
        "  # Get the loss values of the results dictionary (training and test)\n",
        "  loss = results[\"train_loss\"]\n",
        "  test_loss = results[\"dev_loss\"]\n",
        "\n",
        "  # Get the accuracy values of the results dictionary (training and test)\n",
        "  accuracy = results[\"train_acc\"]\n",
        "  test_accuracy = results[\"dev_acc\"]\n",
        "\n",
        "  #Figure out how many epochs there were\n",
        "  epochs = range(len(results[\"train_loss\"]))\n",
        "\n",
        "  # Setup a plot\n",
        "  plt.figure(figsize=(15, 7))\n",
        "  plt.suptitle(model_name) # to dodałam sama\n",
        "  # Dodanie tekstu pod supertytułem\n",
        "  info = (\n",
        "  f\"num_epochs: {results['num_epochs'][0]} | \"\n",
        "  f\"batch_size: {results['batch_size'][0]} | \"\n",
        "  f\"hidden_units: {results['hidden_units'][0]}\"\n",
        "  )\n",
        "  plt.gcf().text(0.5, 0.94, info, ha='center', fontsize=10)\n",
        "\n",
        "  # Plot the loss\n",
        "  plt.subplot(1, 2, 1)\n",
        "  plt.plot(epochs, loss, label=\"train_loss\")\n",
        "  plt.plot(epochs, test_loss, label=\"dev_loss\")\n",
        "  plt.title(\"Loss\")\n",
        "  plt.xlabel(\"Epochs\")\n",
        "  plt.legend()\n",
        "\n",
        "  # Plot the accuracy\n",
        "  plt.subplot(1, 2, 2)\n",
        "  plt.plot(epochs, accuracy, label=\"train_accuracy\")\n",
        "  plt.plot(epochs, test_accuracy, label=\"dev_accuracy\")\n",
        "  plt.title(\"Accuracy\")\n",
        "  plt.xlabel(\"Epochs\")\n",
        "  plt.legend()\n",
        "\n",
        "  plt.show()\n",
        "\n",
        "# 1. Create a function to take in a dataset\n",
        "def display_random_images(dataset: torch.utils.data.Dataset,\n",
        "                          classes: List[str] = None,\n",
        "                          n: int = 10,\n",
        "                          display_shape: bool = False,\n",
        "                          seed: int = None):\n",
        "  # 2. Adjust display if n is too high\n",
        "  if n > 10:\n",
        "    n = 10\n",
        "    display_shape = False\n",
        "    print(f\"For display purposes, n shoudn't be larger than 10, setting to 10 and removing shape display.\")\n",
        "\n",
        "  # 3. Set the seed\n",
        "  if seed:\n",
        "    random.seed(seed)\n",
        "\n",
        "  # 4. Get random sample indexes\n",
        "  random_samples_idx = random.sample(range(len(dataset)), k=n)\n",
        "\n",
        "  # 5. Setup plot\n",
        "  plt.figure(figsize=(16, 8))\n",
        "\n",
        "  # 6. Loop through random indexes and plot them with matplotlib\n",
        "  for i, targ_sample in enumerate(random_samples_idx):\n",
        "    targ_image, targ_label = dataset[targ_sample][0], dataset[targ_sample][1]\n",
        "\n",
        "    # 7. Adjust tensor dimensions for plotting\n",
        "    targ_image_adjust = targ_image.permute(1, 2, 0) # [color_channels, height, weight] -> [height, weight, color_channels]\n",
        "\n",
        "    # Plot adjusted samples\n",
        "    plt.subplot(1, n, i+1)\n",
        "    plt.imshow(targ_image_adjust)\n",
        "    plt.axis(\"off\")\n",
        "    if classes:\n",
        "      title = f\"Actual class: {classes[targ_label]}\"\n",
        "      if display_shape:\n",
        "        title = title + f\"\\nshape: {targ_image_adjust.shape}\"\n",
        "      plt.title(title)\n",
        "\n",
        "import torch\n",
        "from torch.utils.tensorboard import SummaryWriter\n",
        "\n",
        "def create_writer(experiment_name: str,\n",
        "                  model_name: str,\n",
        "                  extra: str=None) -> torch.utils.tensorboard.writer.SummaryWriter():\n",
        "  \"\"\"Creates a torch.utils.tensorboard.writer.SummaryWriter() instance saving to a specific log_dir.\n",
        "\n",
        "  log_dir is a combination of runs/timestamp/experiment_name/model_name/extra.\n",
        "\n",
        "  Where timestamp is the current date in YYYY-MM-DD format.\n",
        "\n",
        "  Args:\n",
        "      experiment_name (str): Name of experiment.\n",
        "      model_name (str): Name of model.\n",
        "      extra (str, optional): Anything extra to add to the directory. Defaults to None.\n",
        "\n",
        "  Returns:\n",
        "      torch.utils.tensorboard.writer.SummaryWriter(): Instance of a writer saving to log_dir.\n",
        "\n",
        "  Example usage:\n",
        "      # Create a writer saving to \"runs/2022-06-04/data_10_percent/effnetb2/5_epochs/\"\n",
        "      writer = create_writer(experiment_name=\"data_10_percent\",\n",
        "                              model_name=\"effnetb2\",\n",
        "                              extra=\"5_epochs\")\n",
        "      # The above is the same as:\n",
        "      writer = SummaryWriter(log_dir=\"runs/2022-06-04/data_10_percent/effnetb2/5_epochs/\")\n",
        "  \"\"\"\n",
        "  from datetime import datetime\n",
        "  import os\n",
        "\n",
        "  # Get timestamp of current date (all experiments on certain day live in same folder)\n",
        "  timestamp = datetime.now().strftime(\"%Y-%m-%d\") # returns current date in YYYY-MM-DD format\n",
        "\n",
        "  if extra:\n",
        "      # Create log directory path\n",
        "      log_dir = os.path.join(\"/content/drive/MyDrive/Życie/ml/pokemony/runs\", timestamp, experiment_name, model_name, extra)\n",
        "  else:\n",
        "      log_dir = os.path.join(\"/content/drive/MyDrive/Życie/ml/pokemony/runs\", timestamp, experiment_name, model_name)\n",
        "\n",
        "  print(f\"[INFO] Created SummaryWriter, saving to: {log_dir}...\")\n",
        "  return SummaryWriter(log_dir=log_dir)"
      ],
      "metadata": {
        "id": "aAMFT2h64-YE",
        "colab": {
          "base_uri": "https://localhost:8080/"
        },
        "outputId": "499f8008-cece-40fc-d8db-55fd87d594ac"
      },
      "execution_count": 389,
      "outputs": [
        {
          "output_type": "stream",
          "name": "stdout",
          "text": [
            "Overwriting /content/drive/MyDrive/Życie/ml/pokemony/pokemony/utils.py\n"
          ]
        }
      ]
    },
    {
      "cell_type": "code",
      "source": [
        "img = Image.open(f\"{module_path}/data/train/Bulbasaur/19.jpg\")\n",
        "img.show()  # Or img.verify() to check without opening"
      ],
      "metadata": {
        "id": "Juo8Y1jdlic6"
      },
      "execution_count": 390,
      "outputs": []
    },
    {
      "cell_type": "markdown",
      "source": [
        "# Po treningu...\n",
        "\n",
        "JUŻ ZA PIERWSZYM ODPALENIEM MAM JUŻ ACC na 93% procent train, to dobrze.\n",
        "\n",
        "Teraz zobaczyć czy nie jest przetrenowany dataset czyli dodać test set. Test set to na razie będzie 10 przykładów.\n",
        "\n",
        "OMG dodałam 10 przykładów dla każdej klasy czyli łącznie 20zdj\n",
        "i mam genialne wyniki:\n",
        "100% acc dla train test i 95% dla test set. Teraz zapiszę model i podam już wytrenowanemu modelowi różne samples z neta.\n",
        "\n",
        "te wyniki otrzymałam z tą samą konfiguracją co w Digits czyli klasyczny TinyVGG i ustawiłam idealnie na 20 epok."
      ],
      "metadata": {
        "id": "p90Cr0Hqh3Fv"
      }
    },
    {
      "cell_type": "markdown",
      "source": [
        "## Wyświtlanie losowych obrazków z test data\n",
        "Wyświetlanie randomowych przykładów BEZ przewidywań"
      ],
      "metadata": {
        "id": "D_Cb5o0-r1Ay"
      }
    },
    {
      "cell_type": "code",
      "source": [
        "import utils\n",
        "\n",
        "data_path = Path(\"/content/drive/MyDrive/Życie/ml\")\n",
        "image_path = data_path / \"pokemony\" / \"data\"\n",
        "test_dir = image_path / \"test\"\n",
        "\n",
        "test_data = datasets.ImageFolder(root=test_dir,\n",
        "                                   transform=data_transform,\n",
        "                                   target_transform=None) # transform for the target/label\n",
        "\n",
        "utils.display_random_images(dataset=test_data,\n",
        "                            n=5,\n",
        "                            classes=test_data.classes)\n",
        "\n",
        "test_data.classes"
      ],
      "metadata": {
        "id": "B_YGLT9Cs4KK",
        "colab": {
          "base_uri": "https://localhost:8080/",
          "height": 260
        },
        "outputId": "45911916-de45-49aa-f30a-fcc6d7c4efbb"
      },
      "execution_count": 391,
      "outputs": [
        {
          "output_type": "execute_result",
          "data": {
            "text/plain": [
              "['Bulbasaur', 'Jigglypuff', 'Others']"
            ]
          },
          "metadata": {},
          "execution_count": 391
        },
        {
          "output_type": "display_data",
          "data": {
            "text/plain": [
              "<Figure size 1600x800 with 5 Axes>"
            ],
            "image/png": "[encoded data removed]"
          },
          "metadata": {}
        }
      ]
    },
    {
      "cell_type": "markdown",
      "source": [
        "## Testowanie i odpalanie skryptów\n",
        "\n",
        "W research overfitting wyszły mi takie dobre wyniki, bo łatwo jest rozróżnić te pokemony, już po samych kolorach, a jak zadziałą na nowe podobne pokemony?\n",
        "\n",
        "Let's find out."
      ],
      "metadata": {
        "id": "K2SuYouJtF6J"
      }
    },
    {
      "cell_type": "code",
      "source": [
        "!pip install -q colorama"
      ],
      "metadata": {
        "id": "XQpyEs6TWcB6"
      },
      "execution_count": 392,
      "outputs": []
    },
    {
      "cell_type": "code",
      "source": [
        "!pip install -q torchmetrics"
      ],
      "metadata": {
        "id": "7Y7Lyc0PWemu"
      },
      "execution_count": 393,
      "outputs": []
    },
    {
      "cell_type": "markdown",
      "source": [],
      "metadata": {
        "id": "0_mX_M_k7XFL"
      }
    },
    {
      "cell_type": "code",
      "source": [
        "%%writefile /content/drive/MyDrive/Życie/ml/pokemony/pokemony/predict.py\n",
        "import os\n",
        "import torch\n",
        "from torch import nn\n",
        "import torchvision\n",
        "from torchvision import datasets, transforms\n",
        "import matplotlib.pyplot as plt\n",
        "from torch.utils.data import DataLoader\n",
        "from colorama import Fore, Back, Style\n",
        "import torchmetrics\n",
        "import argparse\n",
        "import model_builder\n",
        "\n",
        "device = \"cuda\" if torch.cuda.is_available() else \"cpu\"\n",
        "\n",
        "parser = argparse.ArgumentParser(description='It trains a model with PyTorch.')\n",
        "\n",
        "parser.add_argument('--test_dir', type=str, default=\"/content/drive/MyDrive/Życie/ml/pokemony/data/test\", help='Path to test data')\n",
        "parser.add_argument('--model_name', type=str, default=\"PokemonRecognizer.pth\", help='Name of a model to test.')\n",
        "\n",
        "args = parser.parse_args()\n",
        "\n",
        "test_dir = args.test_dir # tu może być 1 obrazek albo wiele, ale batch_size jest ustawione na 1, więc pri dużej ilości będzie bardzo wolno działało\n",
        "model_name = args.model_name\n",
        "\n",
        "data_transform = transforms.Compose([\n",
        "    # Resize our images\n",
        "    transforms.Resize(size=(64, 64)),\n",
        "    # Flip the images randomly on the horizontal\n",
        "    # transforms.RandomHorizontalFlip(p=0.5),\n",
        "    # Turn the image into a torch.Tensor\n",
        "    transforms.ToTensor()\n",
        "])\n",
        "\n",
        "test_data = datasets.ImageFolder(root=test_dir,\n",
        "                                   transform=data_transform,\n",
        "                                   target_transform=None) # transform for the target/label\n",
        "\n",
        "\n",
        "BATCH_SIZE=1\n",
        "\n",
        " # dla testowych\n",
        "test_dataloader = DataLoader(dataset=test_data, batch_size=BATCH_SIZE, shuffle=False)\n",
        "\n",
        "num_classes = len(test_data.classes)\n",
        "# Definiujemy kilka metryk jednocześnie\n",
        "metrics = torchmetrics.MetricCollection({\n",
        "    \"Accuracy\": torchmetrics.Accuracy(task=\"multiclass\", num_classes=num_classes),\n",
        "    \"Precision\": torchmetrics.Precision(task=\"multiclass\", num_classes=num_classes),\n",
        "    \"Recall\": torchmetrics.Recall(task=\"multiclass\", num_classes=num_classes),\n",
        "    \"F1-score\": torchmetrics.F1Score(task=\"multiclass\", num_classes=num_classes),\n",
        "})\n",
        "\n",
        "confusion_matrix = torchmetrics.ConfusionMatrix(task=\"multiclass\", num_classes=num_classes) #jak wyświetlić confision matrix?\n",
        "\n",
        "\n",
        "loaded_model = model_builder.TinyVGG(input_shape=3,\n",
        "                                    hidden_units=20, # try changing this to 128 and seeing what happens\n",
        "                                    output_shape=3)\n",
        "\n",
        "device = \"cuda\" if torch.cuda.is_available() else \"cpu\"\n",
        "\n",
        "# Load in the saved state_dict()\n",
        "\n",
        "module_path = \"/content/drive/MyDrive/Życie/ml/pokemony\"\n",
        "\n",
        "MODEL_SAVE_PATH_FILE = f\"{module_path}/models/{model_name}\" # DLA 3! wyświetlam\n",
        "loaded_model.load_state_dict(torch.load(f=MODEL_SAVE_PATH_FILE))\n",
        "\n",
        "# Send model to GPU\n",
        "loaded_model_2 = loaded_model.to(device)\n",
        "confusion_matrix = confusion_matrix.to(device) # Move confusion matrix to the device\n",
        "\n",
        "import matplotlib.pyplot as plt\n",
        "# plt.figure(figsize=(6, 3))\n",
        "def test():\n",
        "\n",
        "  # Setup loss function and optimizer\n",
        "  loss_fn = nn.CrossEntropyLoss()\n",
        "  test_loss = 0\n",
        "  test_acc = 0\n",
        "\n",
        "  loaded_model_2.eval()\n",
        "  with torch.inference_mode():\n",
        "    for (X, y) in test_dataloader:\n",
        "      # plt.figure(figsize=(10, 10))\n",
        "      # plt.subplot(4,2, batch+1)\n",
        "\n",
        "      X, y = X.to(device), y.to(device) # Move inputs to the same device as the model and metrics\n",
        "\n",
        "      logits = loaded_model_2(X)\n",
        "      preds = logits.softmax(dim=1)\n",
        "      label_number = preds.argmax(dim=1)\n",
        "      # predicted_label = test_data.classes[label_number]\n",
        "      confusion_matrix.update(preds, y)\n",
        "      # actual_label = test_data.classes[y.item()]\n",
        "      loss = loss_fn(logits, y)\n",
        "      test_loss += loss.item()\n",
        "      # Calc acc\n",
        "      # test_acc += torchmetrics.functional.accuracy(test_pred.argmax(dim=1), y_test, task=\"multiclass\", num_classes=num_classes)\n",
        "      # Calculate the accuracy\n",
        "      test_pred_labels = logits.argmax(dim=1)\n",
        "\n",
        "      test_acc += ((test_pred_labels == y).sum().item()/len(test_pred_labels))\n",
        "      # calculate the test loss average per batch\n",
        "\n",
        "  test_loss /= len(test_dataloader)\n",
        "  test_acc /= len(test_dataloader)\n",
        "\n",
        "\n",
        "  final_matrix = confusion_matrix.compute()\n",
        "\n",
        "  return test_loss, test_acc, final_matrix\n",
        "\n",
        "\n",
        "      # preds_str = preds.cpu().numpy()\n",
        "      # print(f\"wtf: {preds_str[0][0]}\")\n",
        "      # print(f\"Predicted: {predicted_label}, True label: {actual_label} | preds {Fore.GREEN + str(round( preds_str[0][0]*100, 2 ))}%, {Fore.MAGENTA + str(round(preds_str[0][1]*100, 2))}%, {Fore.BLUE + str(round( preds_str[0][2]*100, 2 ))}%\")\n",
        "      # print(Style.RESET_ALL)\n",
        "      # W SKRYPCIE NIE WYŚWIETLĘ OBRAZKA, wykresy się generują z zapisanego\n",
        "      # image = torchvision.transforms.functional.to_pil_image(X.squeeze(0), mode=None)\n",
        "      # # image = X.squeeze(0).permute(2,1,0)\n",
        "      # plt.imshow(image)\n",
        "      # plt.title(f\"Predicted: {predicted_label}\")\n",
        "      # plt.axis(\"off\")\n",
        "      # plt.show()\n",
        "\n",
        "      # print(\"\\n\\n\")\n",
        "# Pobranie końcowej macierzy\n",
        "\n",
        "test_loss, test_acc, final_matrix = test()\n",
        "\n",
        "\n",
        "\n",
        "print(f\"Test loss: {round(test_loss, 2)} | Test accuracy: {round(test_acc, 2)*100}%\")\n",
        "print(final_matrix)"
      ],
      "metadata": {
        "id": "1lsN6HaHf2MF",
        "colab": {
          "base_uri": "https://localhost:8080/"
        },
        "outputId": "f5804863-59a1-4060-81bb-79c390efbe84"
      },
      "execution_count": 394,
      "outputs": [
        {
          "output_type": "stream",
          "name": "stdout",
          "text": [
            "Overwriting /content/drive/MyDrive/Życie/ml/pokemony/pokemony/predict.py\n"
          ]
        }
      ]
    },
    {
      "cell_type": "markdown",
      "source": [
        "## TU MOŻE BYĆ PROBLEM przez hidden units które ustawiam na inne więc może dlatego są problemy z matrix multiplication, albo nie. Zobaczmy"
      ],
      "metadata": {
        "id": "KoBVZdBnYk2F"
      }
    },
    {
      "cell_type": "code",
      "source": [
        "### Tutaj testuje na \"PokemonRecognizer\" <--- bez żadnych numerków ;)\n",
        "# !python /content/drive/MyDrive/Życie/ml/pokemony/pokemony/train.py --model_name \"PokemonRecognizer.pth\" --num_epochs 32 --hidden_units 20"
      ],
      "metadata": {
        "id": "biEeZ2bXrQJo"
      },
      "execution_count": 395,
      "outputs": []
    },
    {
      "cell_type": "code",
      "source": [
        "### Tutaj testuje na \"PokemonRecognizer\" <--- bez żadnych numerków ;)\n",
        "!python /content/drive/MyDrive/Życie/ml/pokemony/pokemony/train.py --model_name \"PokemonRecognizer.pth\" --num_epochs 32 --hidden_units 20 --experiment_name \"PokemonRecognizer_0\""
      ],
      "metadata": {
        "id": "cUxxANi1r7A3"
      },
      "execution_count": null,
      "outputs": []
    },
    {
      "cell_type": "markdown",
      "source": [
        "## Uruchomienie modelu z poziomu skryptu\n",
        "\n",
        "Ważne do zapamiętania:\n",
        "*   Nie wyświetlisz obrazków ani wykresów z poziomu skryptu\n",
        "*   Zapisuj wyniki skryptu do pliku, z którego potem będziesz mogła utworzyć wykresy\n",
        "\n",
        "\n"
      ],
      "metadata": {
        "id": "wZ5IE6bIK4N9"
      }
    },
    {
      "cell_type": "code",
      "source": [
        "!python /content/drive/MyDrive/Życie/ml/pokemony/pokemony/predict.py --model_name \"PokemonRecognizer.pth\""
      ],
      "metadata": {
        "id": "jgLSjF4BjTkB"
      },
      "execution_count": null,
      "outputs": []
    },
    {
      "cell_type": "code",
      "source": [
        "# !python /content/drive/MyDrive/Życie/ml/pokemony/pokemony/train.py --model_name \"PokemonRecognizer1.pth\" --num_epochs 16"
      ],
      "metadata": {
        "id": "wrvPUguB2OLk"
      },
      "execution_count": null,
      "outputs": []
    },
    {
      "cell_type": "code",
      "source": [
        "# !python /content/drive/MyDrive/Życie/ml/pokemony/pokemony/train.py --model_name \"PokemonRecognizer2.pth\" --num_epochs 16 --hidden_units 20"
      ],
      "metadata": {
        "id": "gm5fyeB2Tzt8"
      },
      "execution_count": null,
      "outputs": []
    },
    {
      "cell_type": "code",
      "source": [
        "# !python /content/drive/MyDrive/Życie/ml/pokemony/pokemony/train.py --model_name \"PokemonRecognizer3.pth\" --num_epochs 32 --hidden_units 20"
      ],
      "metadata": {
        "id": "FImmaeKUTzcm"
      },
      "execution_count": null,
      "outputs": []
    },
    {
      "cell_type": "code",
      "source": [
        "# !python /content/drive/MyDrive/Życie/ml/pokemony/pokemony/train.py --model_name \"PokemonRecognizer4.pth\" --num_epochs 64 --hidden_units 20 --batch_size 16"
      ],
      "metadata": {
        "id": "gruWdOIdr47F"
      },
      "execution_count": null,
      "outputs": []
    },
    {
      "cell_type": "markdown",
      "source": [
        "### Wykresy kosztu i dokładności dla każdego zapisanego modelu\n",
        "\n",
        "oraz wyniki w tabeli dla każdego modelu"
      ],
      "metadata": {
        "id": "il4r4MJ8UdGp"
      }
    },
    {
      "cell_type": "code",
      "source": [
        "from typing import Dict, List\n",
        "import pandas as pd\n",
        "import utils\n",
        "\n",
        "def csv_to_dict_list(file_path: str) -> Dict[str, List[float]]:\n",
        "  \"\"\"\n",
        "  Wczytuje plik CSV i konwertuje go do formatu Dict[str, List[float]].\n",
        "  \"\"\"\n",
        "  df = pd.read_csv(file_path)\n",
        "\n",
        "  # Inicjalizacja słownika wyników\n",
        "  result_dict: Dict[str, List[float]] = {}\n",
        "\n",
        "  # Iteracja po kolumnach\n",
        "  for column in df.columns:\n",
        "      # Konwersja kolumny do listy floatów\n",
        "      result_dict[column] = df[column].astype(float).tolist()\n",
        "\n",
        "  return result_dict\n",
        "\n",
        "\n",
        "# model_name = \"PokemonRecognizer.pth\"\n",
        "model_names = [\"PokemonRecognizer.pth\",\n",
        "               \"PokemonRecognizer1.pth\",\n",
        "               \"PokemonRecognizer2.pth\",\n",
        "               \"PokemonRecognizer3.pth\"]\n",
        "\n",
        "for model_name in model_names:\n",
        "  file_path = f'{module_path}/models/{model_name}_results.csv'  # Zmień na ścieżkę do swojego pliku\n",
        "\n",
        "  # wyświetlanie wyników kończowych dla wszystkich trenowanych modeli\n",
        "  model_results = csv_to_dict_list(file_path)\n",
        "  print(f\"model_name: {model_name}\")\n",
        "  utils.plot_loss_curves(results=model_results, model_name=model_name)\n"
      ],
      "metadata": {
        "id": "42NX6Njl2a4X"
      },
      "execution_count": null,
      "outputs": []
    },
    {
      "cell_type": "code",
      "source": [
        "import pandas as pd\n",
        "import os\n",
        "\n",
        "pd.options.display.width = 150 # w rpincie nie będzie zawijało kolumn\n",
        "\n",
        "model_names = [\"PokemonRecognizer.pth\",\n",
        "               \"PokemonRecognizer1.pth\",\n",
        "               \"PokemonRecognizer2.pth\",\n",
        "               \"PokemonRecognizer3.pth\"]  # Replace with your model names.\n",
        "module_path = \"/content/drive/MyDrive/Życie/ml/pokemony\"\n",
        "\n",
        "all_tails = []\n",
        "row_names = []  # List to store model names for row indexing\n",
        "\n",
        "for model_name in model_names:\n",
        "    file_path = f'{module_path}/models/{model_name}_results.csv'\n",
        "    try:\n",
        "        model_df = pd.read_csv(file_path)\n",
        "        tail_df = model_df.tail(1)\n",
        "        all_tails.append(tail_df)\n",
        "        row_names.append(model_name)  # Add model name to the row names list\n",
        "    except FileNotFoundError:\n",
        "        print(f\"File not found: {file_path}\")\n",
        "\n",
        "if all_tails:\n",
        "    final_table = pd.concat(all_tails, ignore_index=True)\n",
        "    final_table.index = row_names  # Set the index (row names)\n",
        "    final_table = final_table.to_string(formatters={\n",
        "    'train_acc': '{:,.2%}'.format,\n",
        "    'dev_acc': '{:,.2%}'.format,\n",
        "    })\n",
        "    print(final_table)\n",
        "else:\n",
        "    print(\"No data was found\")\n"
      ],
      "metadata": {
        "id": "3BK7gJfF2_gU"
      },
      "execution_count": null,
      "outputs": []
    },
    {
      "cell_type": "code",
      "source": [
        "import torchvision\n",
        "# Download cutom image\n",
        "import requests\n",
        "\n",
        "# Setup cutom image path\n",
        "custom_image_path = image_path / \"test\"/ \"Others\" / \"jirachi.jpg\"\n",
        "\n",
        "\n",
        "data_transform_sample = transforms.Compose([\n",
        "    # Resize our images\n",
        "    transforms.Resize(size=(64, 64)),\n",
        "    # Turn the image into a torch.Tensor\n",
        "    transforms.ToTensor(),\n",
        "])\n",
        "device = \"cuda\" if torch.cuda.is_available() else \"cpu\"\n",
        "\n",
        "custom_image_uint8 = torchvision.io.read_image(custom_image_path)\n",
        "custom_image_PIL = transforms.functional.to_pil_image(custom_image_uint8, mode=None)\n",
        "# custom_image_uint8 = custom_image_uint8.type(torch.float32) / 255\n",
        "custom_image_transformed = data_transform_sample(custom_image_PIL).to(device)\n",
        "custom_image_transformed_with_batch = custom_image_transformed.unsqueeze(0)"
      ],
      "metadata": {
        "id": "OdAkHT9p-fkH"
      },
      "execution_count": null,
      "outputs": []
    },
    {
      "cell_type": "code",
      "source": [
        "import model_builder\n",
        "\n",
        "loaded_model = model_builder.TinyVGG(input_shape=3,\n",
        "                                    hidden_units=20, # try changing this to 128 and seeing what happens\n",
        "                                    output_shape=3)\n",
        "\n",
        "MODEL_SAVE_PATH_FILE = f\"{module_path}/models/PokemonRecognizer.pth\" # DLA 3! wyświetlam\n",
        "loaded_model.load_state_dict(torch.load(f=MODEL_SAVE_PATH_FILE))\n",
        "\n",
        "# Send model to GPU\n",
        "loaded_model = loaded_model.to(device)\n",
        "loaded_model"
      ],
      "metadata": {
        "id": "ou2C0eLOKiPM"
      },
      "execution_count": null,
      "outputs": []
    },
    {
      "cell_type": "code",
      "source": [
        "loaded_model.eval()\n",
        "with torch.inference_mode():\n",
        "  y_logits = loaded_model(custom_image_transformed_with_batch)\n",
        "  y_preds = y_logits.softmax(dim=1)\n",
        "  y_label = test_data.classes[y_preds.argmax(dim=1)]\n",
        "\n",
        "\n",
        "# print(y_preds)"
      ],
      "metadata": {
        "id": "Wz5pe1uj_Iru"
      },
      "execution_count": null,
      "outputs": []
    },
    {
      "cell_type": "code",
      "source": [
        "import matplotlib.pyplot as plt\n",
        "\n",
        "plt.figure(figsize=(5,5))\n",
        "plt.imshow(custom_image_transformed.permute(1,2,0).cpu().numpy())\n",
        "plt.axis(\"off\")\n",
        "plt.title(f\"Predicted: {y_label}\")\n",
        "print(y_preds.cpu())\n",
        "plt.show()"
      ],
      "metadata": {
        "id": "sQNoxcLB_kce"
      },
      "execution_count": null,
      "outputs": []
    },
    {
      "cell_type": "markdown",
      "source": [
        "# Testowanie bez skryptów\n",
        "\n",
        "Aby wyświetlały dzię wyniki i wykresy z wynikami"
      ],
      "metadata": {
        "id": "44n8bd6nUBMX"
      }
    },
    {
      "cell_type": "code",
      "source": [
        "import os\n",
        "import torch\n",
        "from torch import nn\n",
        "import torchvision\n",
        "from torchvision import datasets, transforms\n",
        "import matplotlib.pyplot as plt\n",
        "from torch.utils.data import DataLoader\n",
        "from colorama import Fore, Back, Style\n",
        "import torchmetrics\n",
        "import argparse\n",
        "import model_builder\n",
        "\n",
        "\n",
        "\n",
        "test_dir = test_dir # tu może być 1 obrazek albo wiele, ale batch_size jest ustawione na 1, więc przy dużej ilości będzie bardzo wolno działało\n",
        "model_name = \"PokemonRecognizer.pth\"\n",
        "\n",
        "data_transform = transforms.Compose([\n",
        "    # Resize our images\n",
        "    transforms.Resize(size=(64, 64)),\n",
        "    # Flip the images randomly on the horizontal\n",
        "    # transforms.RandomHorizontalFlip(p=0.5),\n",
        "    # Turn the image into a torch.Tensor\n",
        "    transforms.ToTensor()\n",
        "])\n",
        "\n",
        "test_data = datasets.ImageFolder(root=test_dir,\n",
        "                                   transform=data_transform,\n",
        "                                   target_transform=None) # transform for the target/label\n",
        "\n",
        "\n"
      ],
      "metadata": {
        "id": "qNgzYNqofRyj"
      },
      "execution_count": null,
      "outputs": []
    },
    {
      "cell_type": "code",
      "source": [
        "BATCH_SIZE=1\n",
        "\n",
        " # dla testowych\n",
        "test_dataloader = DataLoader(dataset=test_data, batch_size=BATCH_SIZE, shuffle=False)\n",
        "\n",
        "num_classes = len(test_data.classes)\n",
        "# Definiujemy kilka metryk jednocześnie\n",
        "metrics = torchmetrics.MetricCollection({\n",
        "    \"Accuracy\": torchmetrics.Accuracy(task=\"multiclass\", num_classes=num_classes),\n",
        "    \"Precision\": torchmetrics.Precision(task=\"multiclass\", num_classes=num_classes),\n",
        "    \"Recall\": torchmetrics.Recall(task=\"multiclass\", num_classes=num_classes),\n",
        "    \"F1-score\": torchmetrics.F1Score(task=\"multiclass\", num_classes=num_classes),\n",
        "})\n",
        "\n",
        "# Set the device correctly before creating the confusion matrix\n",
        "device = \"cuda\" if torch.cuda.is_available() else \"cpu\"\n",
        "\n",
        "confusion_matrix = torchmetrics.ConfusionMatrix(task=\"multiclass\", num_classes=num_classes).to(device) #jak wyświetlić confision matrix?\n",
        "\n",
        "\n",
        "loaded_model = model_builder.TinyVGG(input_shape=3,\n",
        "                                    hidden_units=20, # try changing this to 128 and seeing what happens\n",
        "                                    output_shape=3)\n",
        "\n",
        "\n",
        "\n",
        "# Load in the saved state_dict()\n",
        "\n",
        "MODEL_SAVE_PATH_FILE = f\"{module_path}/models/{model_name}\" # DLA 3! wyświetlam\n",
        "loaded_model.load_state_dict(torch.load(f=MODEL_SAVE_PATH_FILE))\n",
        "\n",
        "# Send model to GPU\n",
        "loaded_model = loaded_model.to(device)\n",
        "\n",
        "import matplotlib.pyplot as plt\n",
        "# plt.figure(figsize=(6, 3))\n",
        "def test():\n",
        "\n",
        "  # Setup loss function and optimizer\n",
        "  loss_fn = nn.CrossEntropyLoss()\n",
        "  test_loss = 0\n",
        "  test_acc = 0\n",
        "\n",
        "  loaded_model.eval()\n",
        "  with torch.inference_mode():\n",
        "    for (X, y) in test_dataloader:\n",
        "      # plt.figure(figsize=(10, 10))\n",
        "      # plt.subplot(4,2, batch+1)\n",
        "\n",
        "      X, y = X.to(device), y.to(device) # Move inputs to the same device as the model and metrics\n",
        "\n",
        "      logits = loaded_model(X)\n",
        "      preds = logits.softmax(dim=1)\n",
        "      label_number = preds.argmax(dim=1)\n",
        "      predicted_label = test_data.classes[label_number]\n",
        "      confusion_matrix.update(preds, y)\n",
        "      actual_label = test_data.classes[y.item()]\n",
        "      loss = loss_fn(logits, y)\n",
        "      test_loss += loss.item()\n",
        "      # Calc acc\n",
        "      # test_acc += torchmetrics.functional.accuracy(test_pred.argmax(dim=1), y_test, task=\"multiclass\", num_classes=num_classes)\n",
        "      # Calculate the accuracy\n",
        "      test_pred_labels = logits.argmax(dim=1)\n",
        "\n",
        "      test_acc += ((test_pred_labels == y).sum().item()/len(test_pred_labels))\n",
        "      # calculate the test loss average per batch\n",
        "\n",
        "\n",
        "      preds_str = preds.cpu().numpy()\n",
        "      # print(f\"wtf: {preds_str[0][0]}\")\n",
        "      print(f\"Predicted: {predicted_label}, True label: {actual_label} | preds {Fore.GREEN + str(round( preds_str[0][0]*100, 2 ))}%, {Fore.MAGENTA + str(round(preds_str[0][1]*100, 2))}%, {Fore.BLUE + str(round( preds_str[0][2]*100, 2 ))}%\")\n",
        "      print(Style.RESET_ALL)\n",
        "      # W SKRYPCIE NIE WYŚWIETLĘ OBRAZKA, wykresy się generują z zapisanego\n",
        "      image = torchvision.transforms.functional.to_pil_image(X.squeeze(0).cpu(), mode=None) # Move image back to CPU for plotting\n",
        "      # image = X.squeeze(0).permute(2,1,0)\n",
        "      plt.figure(figsize=(10, 6))\n",
        "      plt.imshow(image)\n",
        "      plt.title(f\"Predicted: {predicted_label}\")\n",
        "      plt.axis(\"off\")\n",
        "      plt.show()\n",
        "      print(\"\\n\\n\")\n",
        "\n",
        "\n",
        "# Pobranie końcowej macierzy\n",
        "\n",
        "  test_loss /= len(test_dataloader)\n",
        "  test_acc /= len(test_dataloader)\n",
        "\n",
        "  final_matrix = confusion_matrix.compute()\n",
        "\n",
        "  return test_loss, test_acc, final_matrix\n",
        "\n",
        "\n",
        "test_loss, test_acc, final_matrix = test()\n",
        "\n",
        "\n",
        "\n",
        "print(f\"Test loss: {round(test_loss, 2)} | Test accuracy: {round(test_acc, 2)*100}%\")\n",
        "print(final_matrix)"
      ],
      "metadata": {
        "id": "01Ld50eX4YVr"
      },
      "execution_count": null,
      "outputs": []
    },
    {
      "cell_type": "markdown",
      "source": [
        "## Wnioski\n",
        "\n",
        "* najlepszy wynik otrzymałam dla `PokemonRecognizer3.pth    0.050807    98.44%  0.427883  87.50%          32           8            20` 32 to epochs, 8 to batch_size, a 20 to hidden_units"
      ],
      "metadata": {
        "id": "sZhwFm26UL-Q"
      }
    },
    {
      "cell_type": "markdown",
      "source": [
        "## Zapisywanie pracy do pliku\n",
        "Teraz nauczę się jak zapisywać model, aby móc go potem gdzieś wczytać"
      ],
      "metadata": {
        "id": "DeDzqZORtGx2"
      }
    },
    {
      "cell_type": "markdown",
      "source": [
        "# View my model results in TensorBoard"
      ],
      "metadata": {
        "id": "aK-_WnBHOsaX"
      }
    },
    {
      "cell_type": "code",
      "source": [
        "# Let's view our experiments from within the notebook\n",
        "\n",
        "%load_ext tensorboard\n",
        "%tensorboard --logdir /content/drive/MyDrive/Życie/ml/pokemony/runs"
      ],
      "metadata": {
        "id": "9ov3xiNLPh-3"
      },
      "execution_count": null,
      "outputs": []
    },
    {
      "cell_type": "code",
      "source": [
        "# Try to get torchinfo, install it if it doesn't work\n",
        "try:\n",
        "    from torchinfo import summary\n",
        "except:\n",
        "    print(\"[INFO] Couldn't find torchinfo... installing it.\")\n",
        "    !pip install -q torchinfo\n",
        "    from torchinfo import summary"
      ],
      "metadata": {
        "id": "k8x3yXo8h5nD"
      },
      "execution_count": null,
      "outputs": []
    },
    {
      "cell_type": "markdown",
      "source": [
        "# Summary"
      ],
      "metadata": {
        "id": "BM9oORnXAhyU"
      }
    },
    {
      "cell_type": "code",
      "source": [
        "from torchinfo import summary\n",
        "\n",
        "# # Get a summary of the model (uncomment for full output)\n",
        "summary(loaded_model,\n",
        "        input_size=(32, 3, 64, 64), # make sure this is \"input_size\", not \"input_shape\" (batch_size, color_channels, height, width)\n",
        "        verbose=0,\n",
        "        col_names=[\"input_size\", \"output_size\", \"num_params\", \"trainable\"],\n",
        "        col_width=20,\n",
        "        row_settings=[\"var_names\"]\n",
        ")"
      ],
      "metadata": {
        "id": "Hp56f9ngAF41"
      },
      "execution_count": null,
      "outputs": []
    },
    {
      "cell_type": "code",
      "source": [
        "writer = create_writer(experiment_name=\"PokemonRecognizer1\", model_name=\"PokemonRecognizer\", extra=\"20_epochs\")\n",
        "writer"
      ],
      "metadata": {
        "id": "S_XJPjhqVpU4"
      },
      "execution_count": null,
      "outputs": []
    },
    {
      "cell_type": "code",
      "source": [],
      "metadata": {
        "id": "7oZsFDlZXQSo"
      },
      "execution_count": null,
      "outputs": []
    },
    {
      "cell_type": "code",
      "metadata": {
        "id": "3855beb0"
      },
      "source": [
        "!python /content/drive/MyDrive/Życie/ml/pokemony/pokemony/train.py --model_name \"PokemonRecognizer.pth\" --num_epochs 32 --hidden_units 20 --experiment_name \"PokemonRecognizer_0\""
      ],
      "execution_count": null,
      "outputs": []
    }
  ]
}